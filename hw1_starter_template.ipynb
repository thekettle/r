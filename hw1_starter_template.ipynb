{
 "cells": [
  {
   "cell_type": "markdown",
   "metadata": {},
   "source": [
    "# Part A. ANOVA\n",
    "\n",
    "Additional Material: ANOVA tutorial\n",
    "\n",
    "https://datascienceplus.com/one-way-anova-in-r/\n",
    "\n",
    "Jet lag is a common problem for people traveling across multiple time zones, but people can gradually adjust to the new time zone since the exposure of the shifted light schedule to their eyes can resets the internal circadian rhythm in a process called “phase shift”. Campbell and Murphy (1998) in a highly controversial study reported that the human circadian clock can also be reset by only exposing the back of the knee to light, with some hailing this as a major discovery and others challenging aspects of the experimental design. The table below is taken from a later experiment by Wright and Czeisler (2002) that re-examined the phenomenon. The new experiment measured circadian rhythm through the daily cycle of melatonin production in 22 subjects randomly assigned to one of three light treatments. Subjects were woken from sleep and for three hours were exposed to bright lights applied to the eyes only, to the knees only or to neither (control group). The effects of treatment to the circadian rhythm were measured two days later by the magnitude of phase shift (measured in hours) in each subject’s daily cycle of melatonin production. A negative measurement indicates a delay in melatonin production, a predicted effect of light treatment, while a positive number indicates an advance.\n",
    "\n",
    "Raw data of phase shift, in hours, for the circadian rhythm experiment\n",
    "\n",
    "|Treatment|Phase Shift (hr)                            |\n",
    "|:--------|:-------------------------------------------|\n",
    "|Control  |0.53, 0.36, 0.20, -0.37, -0.60, -0.64, -0.68, -1.27|\n",
    "|Knees    |0.73, 0.31, 0.03, -0.29, -0.56, -0.96, -1.61       |\n",
    "|Eyes     |-0.78, -0.86, -1.35, -1.48, -1.52, -2.04, -2.83    |\n",
    "\n",
    "## Question A1 - 3 pts\n",
    "\n",
    "Consider the following incomplete R output:\n",
    "\n",
    "|Source|Df |Sum of Squares|Mean Squares|F-statistics|p-value|\n",
    "|:----:|:-:|:------------:|:----------:|:----------:|:-----:|\n",
    "|Treatments|?|?|3.6122|?|0.004|\n",
    "|Error|?|9.415|?| | |\n",
    "|TOTAL|?|?| | | |\n",
    "\n",
    "Fill in the missing values in the analysis of the variance table.\n",
    "\n",
    "## Question A2 - 3 pts\n",
    "\n",
    "Use $\\mu_1$, $\\mu_2$, and $\\mu_3$  as notation for the three mean parameters and define these parameters clearly based on the context of the topic above. Find the estimates of these parameters.\n",
    "\n",
    "## Question A3 - 5 pts\n",
    "\n",
    "Use the ANOVA table in Question A1 to answer the following questions:\n",
    "\n",
    "a. **1 pts** Write the null hypothesis of the ANOVA $F$-test, $H_0$\n",
    "\n",
    "b. **1 pts** Write the alternative hypothesis of the ANOVA $F$-test, $H_A$\n",
    "\n",
    "c. **1 pts** Fill in the blanks for the degrees of freedom of the ANOVA $F$-test statistic:   $F(____, _____)$\n",
    "\n",
    "d. **1 pts** What is the p-value of the ANOVA $F$-test?\n",
    "\n",
    "e. **1 pts** According the the results of the ANOVA $F$-test, does light treatment affect phase shift?  Use an $\\alpha$-level of 0.05.\n",
    "\n",
    "# Part B. Simple Linear Regression\n",
    "\n",
    "We are going to use regression analysis to estimate the performance of CPUs based on the maximum number of channels in the CPU.  This data set comes from the UCI Machine Learning Repository.\n",
    "\n",
    "The data file includes the following columns:\n",
    "\n",
    "* *vendor*: vendor of the CPU\n",
    "* *chmax*: maximum channels in the CPU\n",
    "* *performance*: published relative performance of the CPU\n",
    "\n",
    "The data is in the file \"machine.csv\". To read the data in `R`, save the file in your working directory (make sure you have changed the directory if different from the R working directory) and read the data using the `R` function `read.csv()`."
   ]
  },
  {
   "cell_type": "code",
   "execution_count": 1,
   "metadata": {},
   "outputs": [
    {
     "data": {
      "text/html": [
       "<table>\n",
       "<caption>A data.frame: 3 × 3</caption>\n",
       "<thead>\n",
       "\t<tr><th></th><th scope=col>vendor</th><th scope=col>chmax</th><th scope=col>performance</th></tr>\n",
       "\t<tr><th></th><th scope=col>&lt;fct&gt;</th><th scope=col>&lt;int&gt;</th><th scope=col>&lt;int&gt;</th></tr>\n",
       "</thead>\n",
       "<tbody>\n",
       "\t<tr><th scope=row>1</th><td>adviser</td><td>128</td><td>198</td></tr>\n",
       "\t<tr><th scope=row>2</th><td>amdahl </td><td> 32</td><td>269</td></tr>\n",
       "\t<tr><th scope=row>3</th><td>amdahl </td><td> 32</td><td>220</td></tr>\n",
       "</tbody>\n",
       "</table>\n"
      ],
      "text/latex": [
       "A data.frame: 3 × 3\n",
       "\\begin{tabular}{r|lll}\n",
       "  & vendor & chmax & performance\\\\\n",
       "  & <fct> & <int> & <int>\\\\\n",
       "\\hline\n",
       "\t1 & adviser & 128 & 198\\\\\n",
       "\t2 & amdahl  &  32 & 269\\\\\n",
       "\t3 & amdahl  &  32 & 220\\\\\n",
       "\\end{tabular}\n"
      ],
      "text/markdown": [
       "\n",
       "A data.frame: 3 × 3\n",
       "\n",
       "| <!--/--> | vendor &lt;fct&gt; | chmax &lt;int&gt; | performance &lt;int&gt; |\n",
       "|---|---|---|---|\n",
       "| 1 | adviser | 128 | 198 |\n",
       "| 2 | amdahl  |  32 | 269 |\n",
       "| 3 | amdahl  |  32 | 220 |\n",
       "\n"
      ],
      "text/plain": [
       "  vendor  chmax performance\n",
       "1 adviser 128   198        \n",
       "2 amdahl   32   269        \n",
       "3 amdahl   32   220        "
      ]
     },
     "metadata": {},
     "output_type": "display_data"
    }
   ],
   "source": [
    "# Read in the data\n",
    "data = read.csv(\"machine.csv\", head = TRUE, sep = \",\")\n",
    "# Show the first few rows of data\n",
    "head(data, 3)"
   ]
  },
  {
   "cell_type": "markdown",
   "metadata": {},
   "source": [
    "## Question B1: Exploratory Data Analysis - 9 pts\n",
    "\n",
    "a. **3 pts** Use a scatter plot to describe the relationship between CPU performance and the maximum number of channels. Describe the general trend (direction and form). Include plots and R-code used."
   ]
  },
  {
   "cell_type": "code",
   "execution_count": null,
   "metadata": {
    "collapsed": true
   },
   "outputs": [],
   "source": [
    "# Your code here...\n"
   ]
  },
  {
   "cell_type": "markdown",
   "metadata": {},
   "source": [
    "b. **3 pts** What is the value of the correlation coefficient between _performance_ and _chmax_? Please interpret the strength of the correlation based on the correlation coefficient."
   ]
  },
  {
   "cell_type": "code",
   "execution_count": null,
   "metadata": {
    "collapsed": true
   },
   "outputs": [],
   "source": [
    "# Your code here...\n"
   ]
  },
  {
   "cell_type": "markdown",
   "metadata": {},
   "source": [
    "c. **2 pts** Based on this exploratory analysis, would you recommend a simple linear regression model for the relationship?\n",
    "\n",
    "d. **1 pts** Based on the analysis above, would you pursue a transformation of the data? *Do not transform the data.*\n",
    "\n",
    "## Question B2: Fitting the Simple Linear Regression Model - 11 pts\n",
    "\n",
    "Fit a linear regression model, named *model1*, to evaluate the relationship between performance and the maximum number of channels. *Do not transform the data.* The function you should use in R is:"
   ]
  },
  {
   "cell_type": "code",
   "execution_count": null,
   "metadata": {
    "collapsed": true
   },
   "outputs": [],
   "source": [
    "# Your code here...\n",
    "model1 = lm(performance ~ chmax, data)\n"
   ]
  },
  {
   "cell_type": "markdown",
   "metadata": {},
   "source": [
    "a. **3 pts** What are the model parameters and what are their estimates?  \n",
    "\n",
    "b. **2 pts** Write down the estimated simple linear regression equation.\n",
    "\n",
    "c. **2 pts** Interpret the estimated value of the $\\beta_1$ parameter in the context of the problem.\n",
    "\n",
    "d. **2 pts** Find a 95% confidence interval for the $\\beta_1$ parameter. Is $\\beta_1$ statistically significant at this level?\n",
    "\n",
    "e. **2 pts** Is $\\beta_1$ statistically significantly positive at an $\\alpha$-level of 0.01?  What is the approximate p-value of this test?\n",
    "\n",
    "## Question B3: Checking the Assumptions of the Model - 8 pts\n",
    "\n",
    "Create and interpret the following graphs with respect to the assumptions of the linear regression model. In other words, comment on whether there are any apparent departures from the assumptions of the linear regression model. Make sure that you state the model assumptions and assess each one.  Each graph may be used to assess one or more model assumptions.\n",
    "\n",
    "a. **2 pts** Scatterplot of the data with *chmax* on the x-axis and *performance* on the y-axis"
   ]
  },
  {
   "cell_type": "code",
   "execution_count": null,
   "metadata": {
    "collapsed": true
   },
   "outputs": [],
   "source": [
    "# Your code here...\n"
   ]
  },
  {
   "cell_type": "markdown",
   "metadata": {},
   "source": [
    "**Model Assumption(s) it checks:**\n",
    "\n",
    "**Interpretation:**\n",
    "\n",
    "b. **3 pts** Residual plot - a plot of the residuals, $\\hat\\epsilon_i$, versus the fitted values, $\\hat{y}_i$"
   ]
  },
  {
   "cell_type": "code",
   "execution_count": null,
   "metadata": {
    "collapsed": true
   },
   "outputs": [],
   "source": [
    "# Your code here...\n"
   ]
  },
  {
   "cell_type": "markdown",
   "metadata": {},
   "source": [
    "**Model Assumption(s) it checks:**\n",
    "\n",
    "**Interpretation:**\n",
    "\n",
    "c. **3 pts** Histogram and q-q plot of the residuals"
   ]
  },
  {
   "cell_type": "code",
   "execution_count": null,
   "metadata": {
    "collapsed": true
   },
   "outputs": [],
   "source": [
    "# Your code here...\n"
   ]
  },
  {
   "cell_type": "markdown",
   "metadata": {},
   "source": [
    "**Model Assumption(s) it checks:**\n",
    "\n",
    "**Interpretation:**"
   ]
  },
  {
   "cell_type": "markdown",
   "metadata": {},
   "source": [
    "## Question B4: Improving the Fit - 10 pts\n",
    "\n",
    "a. **2 pts** Use a Box-Cox transformation (`boxCox()`) to find the optimal $\\lambda$ value rounded to the nearest half integer.  What transformation of the response, if any, does it suggest to perform?"
   ]
  },
  {
   "cell_type": "code",
   "execution_count": null,
   "metadata": {
    "collapsed": true
   },
   "outputs": [],
   "source": [
    "# Your code here...\n"
   ]
  },
  {
   "cell_type": "markdown",
   "metadata": {},
   "source": [
    "b. **2 pts** Create a linear regression model, named *model2*, that uses the log transformed *performance* as the response, and the log transformed *chmax* as the predictor. Note: The variable *chmax* has a couple of zero values which will cause problems when taking the natural log. Please add one to the predictor before taking the natural log of it"
   ]
  },
  {
   "cell_type": "code",
   "execution_count": null,
   "metadata": {
    "collapsed": true
   },
   "outputs": [],
   "source": [
    "# Your code here...\n"
   ]
  },
  {
   "cell_type": "markdown",
   "metadata": {},
   "source": [
    "e. **2 pts** Compare the R-squared values of *model1* and *model2*.  Did the transformation improve the explanatory power of the model?\n",
    "\n",
    "c. **4 pts** Similar to Question B3, assess and interpret all model assumptions of *model2*.  A model is considered a good fit if all assumptions hold. Based on your interpretation of the model assumptions, is *model2* a good fit?"
   ]
  },
  {
   "cell_type": "code",
   "execution_count": null,
   "metadata": {
    "collapsed": true
   },
   "outputs": [],
   "source": [
    "# Your code here...\n"
   ]
  },
  {
   "cell_type": "markdown",
   "metadata": {},
   "source": [
    "## Question B5: Prediction - 3 pts\n",
    "\n",
    "Suppose we are interested in predicting CPU performance when `chmax = 128`.  Please make a prediction using both *model1* and *model2* and provide the 95% prediction interval of each prediction on the original scale of the response, *performance*. What observations can you make about the result in the context of the problem?"
   ]
  },
  {
   "cell_type": "code",
   "execution_count": null,
   "metadata": {
    "collapsed": true
   },
   "outputs": [],
   "source": [
    "# Your code here...\n"
   ]
  },
  {
   "cell_type": "markdown",
   "metadata": {},
   "source": [
    "# Part C. ANOVA - 8 pts\n",
    "\n",
    "We are going to continue using the CPU data set to analyse various vendors in the data set.  There are over 20 vendors in the data set.  To simplify the task, we are going to limit our analysis to three vendors, specifically, honeywell, hp, and nas.  The code to filter for those vendors is provided below."
   ]
  },
  {
   "cell_type": "code",
   "execution_count": null,
   "metadata": {
    "collapsed": true
   },
   "outputs": [],
   "source": [
    "# Filter for honeywell, hp, and nas\n",
    "data2 = data[data$vendor %in% c(\"honeywell\", \"hp\", \"nas\"), ]\n",
    "data2$vendor = factor(data2$vendor)"
   ]
  },
  {
   "cell_type": "markdown",
   "metadata": {},
   "source": [
    "1. **2 pts** Using `data2`, create a boxplot of *performance* and *vendor*, with *performance* on the vertical axis.  Interpret the plots.  "
   ]
  },
  {
   "cell_type": "code",
   "execution_count": null,
   "metadata": {
    "collapsed": true
   },
   "outputs": [],
   "source": [
    "# Your code here...\n"
   ]
  },
  {
   "cell_type": "markdown",
   "metadata": {},
   "source": [
    "2. **3 pts** Perform an ANOVA F-test on the means of the three vendors.  Using an $\\alpha$-level of 0.05, can we reject the null hypothesis that the means of the three vendors are equal?  Please interpret."
   ]
  },
  {
   "cell_type": "code",
   "execution_count": null,
   "metadata": {
    "collapsed": true
   },
   "outputs": [],
   "source": [
    "# Your code here...\n"
   ]
  },
  {
   "cell_type": "markdown",
   "metadata": {},
   "source": [
    "3. **3 pts** Perform a Tukey pairwise comparison between the three vendors. Using an $\\alpha$-level of 0.05, which means are statistically significantly different from each other?"
   ]
  },
  {
   "cell_type": "code",
   "execution_count": null,
   "metadata": {
    "collapsed": true
   },
   "outputs": [],
   "source": [
    "# Your code here...\n"
   ]
  }
 ],
 "metadata": {
  "jupytext": {
   "cell_metadata_filter": "tags,name,-all",
   "main_language": "R",
   "notebook_metadata_filter": "-all"
  },
  "kernelspec": {
   "display_name": "R",
   "language": "R",
   "name": "ir"
  },
  "language_info": {
   "codemirror_mode": "r",
   "file_extension": ".r",
   "mimetype": "text/x-r-source",
   "name": "R",
   "pygments_lexer": "r",
   "version": "3.6.1"
  }
 },
 "nbformat": 4,
 "nbformat_minor": 2
}
